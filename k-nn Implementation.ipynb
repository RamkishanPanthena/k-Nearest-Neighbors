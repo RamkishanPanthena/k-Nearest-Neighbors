{
 "cells": [
  {
   "cell_type": "markdown",
   "metadata": {},
   "source": [
    "## K-nn Implementation"
   ]
  },
  {
   "cell_type": "markdown",
   "metadata": {},
   "source": [
    "Trained and tested k-nn clasification that does the following:\n",
    "    \n",
    "i) Compute pairwise similarity using either dot/cosine/euclidean measures\n",
    "\n",
    "ii) Find the k-nearest neighbors and predict the class of the test record\n",
    "\n",
    "iii) Compute accuracy of the dataset\n",
    "\n",
    "iv) Print the nearest neighbors given a particular index\n",
    "\n",
    "Dataset used: MNIST (digit images)\n",
    "https://en.wikipedia.org/wiki/MNIST_database\n",
    "\n",
    "http://yann.lecun.com/exdb/mnist/\n",
    "\n",
    "MNIST Parser used:\n",
    "https://github.com/datapythonista/mnist"
   ]
  },
  {
   "cell_type": "code",
   "execution_count": 18,
   "metadata": {
    "collapsed": true
   },
   "outputs": [],
   "source": [
    "import mnist\n",
    "import numpy as np\n",
    "import time"
   ]
  },
  {
   "cell_type": "markdown",
   "metadata": {},
   "source": [
    "### Implementing k-nn"
   ]
  },
  {
   "cell_type": "code",
   "execution_count": 19,
   "metadata": {
    "collapsed": true
   },
   "outputs": [],
   "source": [
    "# knn\n",
    "class knn:\n",
    "    def __init__(self, k, sim_metric):\n",
    "        self.sim_matrix = None\n",
    "        self.tmp_matrix = None\n",
    "        self.k = k\n",
    "        self.sim_metric = sim_metric\n",
    "        self.indices = []\n",
    "        self.values = []\n",
    "        self.categories = []\n",
    "        self.pred = []\n",
    "        self.chunks = []\n",
    "    \n",
    "    def kneighbors(self, train_X, train_y, test_X):\n",
    "        tic = time.process_time()\n",
    "        chunks = [test_X[i:i+5000] for i in range(0, len(test_X), 5000)]\n",
    "        self.chunks = chunks\n",
    "        \n",
    "        for i in range(len(chunks)):\n",
    "            print (\"Processing chunk\", i)\n",
    "            self.tmp_matrix = self.build_sim_matrix(train_X, chunks[i], self.sim_metric)\n",
    "            \n",
    "            for j in range(len(chunks[i])):\n",
    "                test_record = self.tmp_matrix[:,j]\n",
    "                kindices = np.argpartition(test_record, -self.k)[-self.k:]\n",
    "                kvalues = test_record[kindices]\n",
    "                kcategories = train_y[kindices]\n",
    "                \n",
    "                tmp = list(kcategories)\n",
    "                \n",
    "                self.indices.append(kindices)\n",
    "                self.values.append(kvalues)\n",
    "                self.categories.append(kcategories)\n",
    "                self.pred.append(max(set(tmp), key = tmp.count))\n",
    "        toc = time.process_time()\n",
    "        print(\"Total time elapsed:\", toc-tic, \"seconds.\")\n",
    "    \n",
    "    def find_nearest_neighbor_idx(self, idx, labels):\n",
    "        print(\"Indices:\")\n",
    "        for i in self.indices[idx]:\n",
    "            print(i)\n",
    "        \n",
    "        print(\"\\nCategories:\")\n",
    "        for i in self.categories[idx]:\n",
    "            print(i)\n",
    "\n",
    "        print(\"\\nPrediction:\", self.pred[idx])\n",
    "        \n",
    "        print(\"\\nActual label:\", labels[idx])        \n",
    "                \n",
    "    def build_sim_matrix(self, train_X, test_X, metric):\n",
    "        if metric == 'dot':\n",
    "            dist = self.dot_product_sim_matrix(train_X, test_X)\n",
    "        if metric == 'cosine':\n",
    "            dist = self.cosine_sim_matrix(train_X, test_X)\n",
    "        if metric == 'euclidean':\n",
    "            dist = self.euclidean_dist_matrix(train_X, test_X)\n",
    "        \n",
    "        return dist\n",
    "    \n",
    "    def accuracy(self, pred, test_y):\n",
    "        correct = 0\n",
    "        for i in range(len(pred)):\n",
    "            if pred[i] == test_y[i]:\n",
    "                correct += 1\n",
    "        \n",
    "        return correct/len(pred)\n",
    "    \n",
    "    def dot_product_sim_matrix(self, train_X, test_X):\n",
    "        dist = np.dot(train_X, test_X.T)\n",
    "        return dist\n",
    "    \n",
    "    def cosine_sim_matrix(self, train_X, test_X):\n",
    "        norm_train = np.linalg.norm(train_X, axis = 1, keepdims = True)\n",
    "        norm_test = np.linalg.norm(test_X, axis = 1, keepdims = True)\n",
    "        \n",
    "        a = np.dot(train_X, test_X.T)\n",
    "        b = np.dot(norm_train, norm_test.T)\n",
    "        dist = a/b\n",
    "        \n",
    "        return dist\n",
    "    \n",
    "    def euclidean_dist_matrix(self, train_X, test_X):\n",
    "        train_X = np.array(train_X)\n",
    "        test_X = np.array(test_X)\n",
    "        train_square = np.sum(np.square(train_X), axis = 1)\n",
    "        test_square = np.sum(np.square(test_X), axis = 1)\n",
    "        \n",
    "        mul = np.dot(train_X, test_X.T)\n",
    "        dist = np.sqrt(train_square[:, np.newaxis] + test_square - 2 * mul)\n",
    "        \n",
    "        return dist"
   ]
  },
  {
   "cell_type": "markdown",
   "metadata": {},
   "source": [
    "### Processing data for MNIST"
   ]
  },
  {
   "cell_type": "code",
   "execution_count": 20,
   "metadata": {
    "collapsed": false
   },
   "outputs": [],
   "source": [
    "images_train = mnist.train_images()\n",
    "images_test = mnist.test_images()"
   ]
  },
  {
   "cell_type": "markdown",
   "metadata": {},
   "source": [
    "### Converting to 2-d array"
   ]
  },
  {
   "cell_type": "code",
   "execution_count": 21,
   "metadata": {
    "collapsed": false
   },
   "outputs": [],
   "source": [
    "train_X = images_train.reshape((images_train.shape[0], images_train.shape[1] * images_train.shape[2]))\n",
    "test_X = images_test.reshape((images_test.shape[0], images_test.shape[1] * images_test.shape[2]))\n",
    "train_y = mnist.train_labels()\n",
    "test_y = mnist.test_labels()"
   ]
  },
  {
   "cell_type": "markdown",
   "metadata": {},
   "source": [
    "### Normalizing the datasets"
   ]
  },
  {
   "cell_type": "code",
   "execution_count": 22,
   "metadata": {
    "collapsed": true
   },
   "outputs": [],
   "source": [
    "train_X = train_X/255\n",
    "test_X = test_X/255"
   ]
  },
  {
   "cell_type": "markdown",
   "metadata": {},
   "source": [
    "### Running k-nn on MNIST Train set"
   ]
  },
  {
   "cell_type": "code",
   "execution_count": 23,
   "metadata": {
    "collapsed": false
   },
   "outputs": [
    {
     "name": "stdout",
     "output_type": "stream",
     "text": [
      "Processing chunk 0\n",
      "Processing chunk 1\n",
      "Processing chunk 2\n",
      "Processing chunk 3\n",
      "Processing chunk 4\n",
      "Processing chunk 5\n",
      "Processing chunk 6\n",
      "Processing chunk 7\n",
      "Processing chunk 8\n",
      "Processing chunk 9\n",
      "Processing chunk 10\n",
      "Processing chunk 11\n",
      "Total time elapsed: 754.921875 seconds.\n"
     ]
    }
   ],
   "source": [
    "model1 = knn(5, 'cosine')\n",
    "model1.kneighbors(train_X, train_y, train_X)"
   ]
  },
  {
   "cell_type": "markdown",
   "metadata": {},
   "source": [
    "### Check accuracy on Train set"
   ]
  },
  {
   "cell_type": "code",
   "execution_count": 24,
   "metadata": {
    "collapsed": false
   },
   "outputs": [
    {
     "name": "stdout",
     "output_type": "stream",
     "text": [
      "Accuracy on Train set: 0.9840833333333333\n"
     ]
    }
   ],
   "source": [
    "print(\"Accuracy on Train set:\", model1.accuracy(model1.pred, train_y))"
   ]
  },
  {
   "cell_type": "markdown",
   "metadata": {},
   "source": [
    "### Running k-nn on MNIST Test set"
   ]
  },
  {
   "cell_type": "code",
   "execution_count": 25,
   "metadata": {
    "collapsed": false
   },
   "outputs": [
    {
     "name": "stdout",
     "output_type": "stream",
     "text": [
      "Processing chunk 0\n",
      "Processing chunk 1\n",
      "Total time elapsed: 123.53125 seconds.\n"
     ]
    }
   ],
   "source": [
    "model2 = knn(5, 'cosine')\n",
    "model2.kneighbors(train_X, train_y, test_X)"
   ]
  },
  {
   "cell_type": "markdown",
   "metadata": {},
   "source": [
    "### Checking accuracy on Test set"
   ]
  },
  {
   "cell_type": "code",
   "execution_count": 26,
   "metadata": {
    "collapsed": false
   },
   "outputs": [
    {
     "name": "stdout",
     "output_type": "stream",
     "text": [
      "Accuracy on Test set: 0.9728\n"
     ]
    }
   ],
   "source": [
    "print(\"Accuracy on Test set:\", model2.accuracy(model2.pred, test_y))"
   ]
  },
  {
   "cell_type": "markdown",
   "metadata": {},
   "source": [
    "### Checking nearset neighbors given a particular index"
   ]
  },
  {
   "cell_type": "code",
   "execution_count": 28,
   "metadata": {
    "collapsed": false
   },
   "outputs": [
    {
     "name": "stdout",
     "output_type": "stream",
     "text": [
      "Indices:\n",
      "34656\n",
      "9035\n",
      "48438\n",
      "13216\n",
      "49939\n",
      "\n",
      "Categories:\n",
      "0\n",
      "0\n",
      "0\n",
      "0\n",
      "0\n",
      "\n",
      "Prediction: 0\n",
      "\n",
      "Actual label: 0\n"
     ]
    }
   ],
   "source": [
    "model2.find_nearest_neighbor_idx(10, test_y)"
   ]
  }
 ],
 "metadata": {
  "anaconda-cloud": {},
  "kernelspec": {
   "display_name": "Python [conda root]",
   "language": "python",
   "name": "conda-root-py"
  },
  "language_info": {
   "codemirror_mode": {
    "name": "ipython",
    "version": 3
   },
   "file_extension": ".py",
   "mimetype": "text/x-python",
   "name": "python",
   "nbconvert_exporter": "python",
   "pygments_lexer": "ipython3",
   "version": "3.5.2"
  }
 },
 "nbformat": 4,
 "nbformat_minor": 1
}
